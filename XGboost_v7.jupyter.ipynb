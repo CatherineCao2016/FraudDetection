{
 "cells": [
  {
   "cell_type": "markdown",
   "metadata": {
    "collapsed": true
   },
   "source": [
    "# Fraud Detection with XGBoost and Machine Learning in Watson Studio Local\n",
    "<a id='toc'></a>"
   ]
  },
  {
   "cell_type": "markdown",
   "metadata": {},
   "source": [
    "The data is simulated for demo purpose only."
   ]
  },
  {
   "cell_type": "markdown",
   "metadata": {},
   "source": [
    "1. [Imports](#Imports)\n",
    "2. [UDFs](#udf)\n",
    "3. [Load Data](#LoadData)\n",
    "4. [Exploratory Data Analysis](#eda)\n",
    "5. [Split into Training and Test](#split)\n",
    "6. [XGboost](#xgboost)  \n",
    "    6.1 [Using Default Setting from Modeler](#bsl)  \n",
    "    6.2 [Plot Feature Importance](#imp)    \n",
    "7. [Build Pipeline](#ppl)\n",
    "8. [Save Model](#save)\n",
    "9. [Use scale_pos_weight to take care of imbalance](#test)\n",
    "10. [Notes and Further Reads](#note)"
   ]
  },
  {
   "cell_type": "markdown",
   "metadata": {},
   "source": [
    "<a id='Imports'></a>\n",
    "## Imports\n",
    "<div style=\"text-align: right\"> [Top](#toc) </div>"
   ]
  },
  {
   "cell_type": "code",
   "execution_count": 12,
   "metadata": {},
   "outputs": [
    {
     "name": "stdout",
     "output_type": "stream",
     "text": [
      "0.90\n"
     ]
    }
   ],
   "source": [
    "import xgboost as xgb\n",
    "print(xgb.__version__)\n",
    "\n",
    "import numpy as np\n",
    "import pandas as pd\n",
    "from xgboost import XGBClassifier\n",
    "from sklearn.metrics import roc_auc_score, confusion_matrix, classification_report\n",
    "from sklearn.model_selection import GridSearchCV,RandomizedSearchCV\n",
    "from sklearn.model_selection import StratifiedKFold\n",
    "\n",
    "from sklearn.pipeline import Pipeline\n",
    "from sklearn.preprocessing import LabelBinarizer, StandardScaler\n",
    "from sklearn_pandas import DataFrameMapper\n",
    "\n",
    "#import brunel\n",
    "import warnings\n",
    "warnings.filterwarnings('ignore')\n",
    "\n",
    "import matplotlib.pyplot as plt\n",
    "%matplotlib inline"
   ]
  },
  {
   "cell_type": "code",
   "execution_count": 2,
   "metadata": {},
   "outputs": [
    {
     "name": "stdout",
     "output_type": "stream",
     "text": [
      "Collecting xgboost\n",
      "\u001b[?25l  Downloading https://files.pythonhosted.org/packages/96/84/4e2cae6247f397f83d8adc5c2a2a0c5d7d790a14a4c7400ff6574586f589/xgboost-0.90.tar.gz (676kB)\n",
      "\u001b[K     |████████████████████████████████| 686kB 590kB/s eta 0:00:01\n",
      "\u001b[?25hRequirement already satisfied: numpy in /Users/catherinecao/opt/anaconda3/lib/python3.7/site-packages (from xgboost) (1.17.2)\n",
      "Requirement already satisfied: scipy in /Users/catherinecao/opt/anaconda3/lib/python3.7/site-packages (from xgboost) (1.3.1)\n",
      "Building wheels for collected packages: xgboost\n",
      "  Building wheel for xgboost (setup.py) ... \u001b[?25ldone\n",
      "\u001b[?25h  Created wheel for xgboost: filename=xgboost-0.90-cp37-cp37m-macosx_10_9_x86_64.whl size=1696834 sha256=092c78879510b070b72536a7398539e5a5c128c48ea6a33cfcd41c4dccd8a112\n",
      "  Stored in directory: /Users/catherinecao/Library/Caches/pip/wheels/e9/48/4d/de4187b5270dff71d3697c5a7857a1e2d9a0c63a28b3462eeb\n",
      "Successfully built xgboost\n",
      "Installing collected packages: xgboost\n",
      "Successfully installed xgboost-0.90\n"
     ]
    }
   ],
   "source": [
    "#!pip install xgboost"
   ]
  },
  {
   "cell_type": "code",
   "execution_count": 5,
   "metadata": {},
   "outputs": [
    {
     "name": "stdout",
     "output_type": "stream",
     "text": [
      "Collecting sklearn_pandas\n",
      "  Downloading https://files.pythonhosted.org/packages/1f/48/4e1461d828baf41d609efaa720d20090ac6ec346b5daad3c88e243e2207e/sklearn_pandas-1.8.0-py2.py3-none-any.whl\n",
      "Requirement already satisfied: scipy>=0.14 in /Users/catherinecao/opt/anaconda3/lib/python3.7/site-packages (from sklearn_pandas) (1.3.1)\n",
      "Requirement already satisfied: scikit-learn>=0.15.0 in /Users/catherinecao/opt/anaconda3/lib/python3.7/site-packages (from sklearn_pandas) (0.21.3)\n",
      "Requirement already satisfied: pandas>=0.11.0 in /Users/catherinecao/opt/anaconda3/lib/python3.7/site-packages (from sklearn_pandas) (0.25.1)\n",
      "Requirement already satisfied: numpy>=1.6.1 in /Users/catherinecao/opt/anaconda3/lib/python3.7/site-packages (from sklearn_pandas) (1.17.2)\n",
      "Requirement already satisfied: joblib>=0.11 in /Users/catherinecao/opt/anaconda3/lib/python3.7/site-packages (from scikit-learn>=0.15.0->sklearn_pandas) (0.13.2)\n",
      "Requirement already satisfied: python-dateutil>=2.6.1 in /Users/catherinecao/opt/anaconda3/lib/python3.7/site-packages (from pandas>=0.11.0->sklearn_pandas) (2.8.0)\n",
      "Requirement already satisfied: pytz>=2017.2 in /Users/catherinecao/opt/anaconda3/lib/python3.7/site-packages (from pandas>=0.11.0->sklearn_pandas) (2019.3)\n",
      "Requirement already satisfied: six>=1.5 in /Users/catherinecao/opt/anaconda3/lib/python3.7/site-packages (from python-dateutil>=2.6.1->pandas>=0.11.0->sklearn_pandas) (1.12.0)\n",
      "Installing collected packages: sklearn-pandas\n",
      "Successfully installed sklearn-pandas-1.8.0\n"
     ]
    }
   ],
   "source": [
    "#!pip install sklearn_pandas"
   ]
  },
  {
   "cell_type": "code",
   "execution_count": 3,
   "metadata": {},
   "outputs": [
    {
     "name": "stdout",
     "output_type": "stream",
     "text": [
      "Current_Transactions_v7.csv\r\n",
      "\u001b[34mFraud Spark Model\u001b[m\u001b[m\r\n",
      "History_Transactions_v4.csv\r\n",
      "WSL 1.2.3 - Basics of Skytap Provisioning.docx\r\n",
      "XGBoost_v6.jupyter-py35.ipynb\r\n",
      "XGboost_v3.jupyter.ipynb\r\n",
      "mmd.lic\r\n"
     ]
    }
   ],
   "source": [
    "!ls"
   ]
  },
  {
   "cell_type": "code",
   "execution_count": 8,
   "metadata": {},
   "outputs": [
    {
     "name": "stdout",
     "output_type": "stream",
     "text": [
      "Requirement already up-to-date: scikit-learn in /opt/conda2/lib/python2.7/site-packages (0.20.4)\n",
      "Requirement already satisfied, skipping upgrade: numpy>=1.8.2 in /opt/conda2/lib/python2.7/site-packages (from scikit-learn) (1.14.5)\n",
      "Requirement already satisfied, skipping upgrade: scipy>=0.13.3 in /opt/conda2/lib/python2.7/site-packages (from scikit-learn) (1.1.0)\n",
      "\u001b[33mYou are using pip version 18.1, however version 19.3.1 is available.\n",
      "You should consider upgrading via the 'pip install --upgrade pip' command.\u001b[0m\n"
     ]
    }
   ],
   "source": [
    "#!pip install -U scikit-learn"
   ]
  },
  {
   "cell_type": "markdown",
   "metadata": {},
   "source": [
    "<a id='udf'></a>\n",
    "## UDFs\n",
    "<div style=\"text-align: right\"> [Top](#toc) </div>"
   ]
  },
  {
   "cell_type": "code",
   "execution_count": null,
   "metadata": {},
   "outputs": [],
   "source": [
    "[ expression for item in list if conditional ]"
   ]
  },
  {
   "cell_type": "code",
   "execution_count": 71,
   "metadata": {},
   "outputs": [
    {
     "ename": "NameError",
     "evalue": "name 'l' is not defined",
     "output_type": "error",
     "traceback": [
      "\u001b[0;31m---------------------------------------------------------------------------\u001b[0m",
      "\u001b[0;31mNameError\u001b[0m                                 Traceback (most recent call last)",
      "\u001b[0;32m<ipython-input-71-8700b118d2aa>\u001b[0m in \u001b[0;36m<module>\u001b[0;34m\u001b[0m\n\u001b[0;32m----> 1\u001b[0;31m \u001b[0;34m[\u001b[0m\u001b[0mx\u001b[0m\u001b[0;34m+\u001b[0m\u001b[0;36m1\u001b[0m \u001b[0;32mif\u001b[0m \u001b[0mx\u001b[0m \u001b[0;34m>=\u001b[0m \u001b[0;36m45\u001b[0m \u001b[0;32melse\u001b[0m \u001b[0mx\u001b[0m\u001b[0;34m+\u001b[0m\u001b[0;36m5\u001b[0m \u001b[0;32mfor\u001b[0m \u001b[0mx\u001b[0m \u001b[0;32min\u001b[0m \u001b[0ml\u001b[0m\u001b[0;34m]\u001b[0m\u001b[0;34m\u001b[0m\u001b[0;34m\u001b[0m\u001b[0m\n\u001b[0m",
      "\u001b[0;31mNameError\u001b[0m: name 'l' is not defined"
     ]
    }
   ],
   "source": [
    "[x+1 if x >= 45 else x+5 for x in l] "
   ]
  },
  {
   "cell_type": "code",
   "execution_count": 72,
   "metadata": {},
   "outputs": [],
   "source": [
    "from sklearn import metrics\n",
    "def evaluate_it(alg, k):\n",
    "    pred = alg.predict_proba(X_test_maptrsfm)[:,1]\n",
    "    auc = roc_auc_score(y_test,pred)\n",
    "    pred = [ 1 if x >= k else 0 for x in pred]\n",
    "    print(\"*****Confusion Matrix *****\")\n",
    "    print(confusion_matrix(y_test, pred))\n",
    "    print(\"*****Classification Report*****\")\n",
    "    print(classification_report(y_test, pred))\n",
    "    print(\"AUC: \" +  str(auc))"
   ]
  },
  {
   "cell_type": "markdown",
   "metadata": {},
   "source": [
    "<a id='LoadData'></a>\n",
    "## Load Data\n",
    "<div style=\"text-align: right\"> [Top](#toc) </div>"
   ]
  },
  {
   "cell_type": "code",
   "execution_count": 2,
   "metadata": {},
   "outputs": [
    {
     "data": {
      "text/html": [
       "<div>\n",
       "<style scoped>\n",
       "    .dataframe tbody tr th:only-of-type {\n",
       "        vertical-align: middle;\n",
       "    }\n",
       "\n",
       "    .dataframe tbody tr th {\n",
       "        vertical-align: top;\n",
       "    }\n",
       "\n",
       "    .dataframe thead th {\n",
       "        text-align: right;\n",
       "    }\n",
       "</style>\n",
       "<table border=\"1\" class=\"dataframe\">\n",
       "  <thead>\n",
       "    <tr style=\"text-align: right;\">\n",
       "      <th></th>\n",
       "      <th>Dollar_Amount</th>\n",
       "      <th>Transaction_Type</th>\n",
       "      <th>Store_Type</th>\n",
       "      <th>Cardholder_Region</th>\n",
       "      <th>Country</th>\n",
       "      <th>Fraudulent</th>\n",
       "      <th>Last3hourTransactions</th>\n",
       "      <th>Hours_Since_Last_Transaction</th>\n",
       "    </tr>\n",
       "  </thead>\n",
       "  <tbody>\n",
       "    <tr>\n",
       "      <td>0</td>\n",
       "      <td>188.56</td>\n",
       "      <td>swiped</td>\n",
       "      <td>ATM Withdrawal</td>\n",
       "      <td>E</td>\n",
       "      <td>USA</td>\n",
       "      <td>F</td>\n",
       "      <td>4</td>\n",
       "      <td>21</td>\n",
       "    </tr>\n",
       "    <tr>\n",
       "      <td>1</td>\n",
       "      <td>160.54</td>\n",
       "      <td>keyed</td>\n",
       "      <td>Grocery</td>\n",
       "      <td>NE</td>\n",
       "      <td>Australia</td>\n",
       "      <td>F</td>\n",
       "      <td>3</td>\n",
       "      <td>21</td>\n",
       "    </tr>\n",
       "    <tr>\n",
       "      <td>2</td>\n",
       "      <td>153.24</td>\n",
       "      <td>swiped</td>\n",
       "      <td>Retail - Pharmacy</td>\n",
       "      <td>SW</td>\n",
       "      <td>European Union</td>\n",
       "      <td>T</td>\n",
       "      <td>2</td>\n",
       "      <td>21</td>\n",
       "    </tr>\n",
       "    <tr>\n",
       "      <td>3</td>\n",
       "      <td>148.66</td>\n",
       "      <td>keyed</td>\n",
       "      <td>Communications - telephone and wireless</td>\n",
       "      <td>NW</td>\n",
       "      <td>USA</td>\n",
       "      <td>F</td>\n",
       "      <td>1</td>\n",
       "      <td>35</td>\n",
       "    </tr>\n",
       "    <tr>\n",
       "      <td>4</td>\n",
       "      <td>174.03</td>\n",
       "      <td>keyed</td>\n",
       "      <td>Spa/Beauty</td>\n",
       "      <td>SW</td>\n",
       "      <td>Asia</td>\n",
       "      <td>F</td>\n",
       "      <td>1</td>\n",
       "      <td>25</td>\n",
       "    </tr>\n",
       "  </tbody>\n",
       "</table>\n",
       "</div>"
      ],
      "text/plain": [
       "   Dollar_Amount Transaction_Type                               Store_Type  \\\n",
       "0         188.56           swiped                           ATM Withdrawal   \n",
       "1         160.54            keyed                                  Grocery   \n",
       "2         153.24           swiped                        Retail - Pharmacy   \n",
       "3         148.66            keyed  Communications - telephone and wireless   \n",
       "4         174.03            keyed                               Spa/Beauty   \n",
       "\n",
       "  Cardholder_Region         Country Fraudulent  Last3hourTransactions  \\\n",
       "0                 E             USA          F                      4   \n",
       "1                NE       Australia          F                      3   \n",
       "2                SW  European Union          T                      2   \n",
       "3                NW             USA          F                      1   \n",
       "4                SW            Asia          F                      1   \n",
       "\n",
       "   Hours_Since_Last_Transaction  \n",
       "0                            21  \n",
       "1                            21  \n",
       "2                            21  \n",
       "3                            35  \n",
       "4                            25  "
      ]
     },
     "execution_count": 2,
     "metadata": {},
     "output_type": "execute_result"
    }
   ],
   "source": [
    "import os, pandas as pd\n",
    "# Add asset from file system\n",
    "#df_data_1 = pd.read_csv(os.environ['DSX_PROJECT_DIR']+'/datasets/History_Transactions_v4.csv')\n",
    "df_data_1 = pd.read_csv(\"History_Transactions_v4.csv\")\n",
    "# only keep variables we will use later\n",
    "df_data_1 = df_data_1[['Dollar_Amount', \n",
    "                       'Transaction_Type',\n",
    "                       'Store_Type', \n",
    "                       'Cardholder_Region', \n",
    "                       'Country',\n",
    "                       'Fraudulent',\n",
    "                       'Last3hourTransactions',\n",
    "                       'Hours_Since_Last_Transaction'\n",
    "                      ]]\n",
    "df_data_1.head()"
   ]
  },
  {
   "cell_type": "markdown",
   "metadata": {},
   "source": [
    "<a id='eda'></a>\n",
    "## Exploratory Data Analysis\n",
    "<div style=\"text-align: right\"> [Top](#toc) </div>"
   ]
  },
  {
   "cell_type": "markdown",
   "metadata": {},
   "source": [
    "The data is actually well cleaned so we will just focus on the SMOTE and XGB, and keep data prep and EDA to minimal."
   ]
  },
  {
   "cell_type": "code",
   "execution_count": 10,
   "metadata": {},
   "outputs": [
    {
     "data": {
      "text/plain": [
       "Dollar_Amount                   0\n",
       "Transaction_Type                0\n",
       "Store_Type                      0\n",
       "Cardholder_Region               0\n",
       "Country                         0\n",
       "Fraudulent                      0\n",
       "Last3hourTransactions           0\n",
       "Hours_Since_Last_Transaction    0\n",
       "dtype: int64"
      ]
     },
     "execution_count": 10,
     "metadata": {},
     "output_type": "execute_result"
    }
   ],
   "source": [
    "# check missing\n",
    "df_data_1.apply(lambda x: sum(x.isnull()))"
   ]
  },
  {
   "cell_type": "code",
   "execution_count": 11,
   "metadata": {
    "scrolled": false
   },
   "outputs": [
    {
     "name": "stdout",
     "output_type": "stream",
     "text": [
      "****************************************\n",
      "\n",
      "Frequency count for variable Fraudulent\n",
      "F    52132\n",
      "T     2903\n",
      "Name: Fraudulent, dtype: int64\n",
      "****************************************\n",
      "\n",
      "Frequency count for variable Transaction_Type\n",
      "swiped    27623\n",
      "keyed     27412\n",
      "Name: Transaction_Type, dtype: int64\n",
      "****************************************\n",
      "\n",
      "Frequency count for variable Store_Type\n",
      "Restaurant                                 4470\n",
      "Professional Services                      3443\n",
      "Grocery                                    3403\n",
      "Gas                                        3261\n",
      "Other                                      3226\n",
      "Hotel                                      3206\n",
      "Retail - Apparel                           2276\n",
      "ATM Withdrawal                             2240\n",
      "Retail - Furniture                         2232\n",
      "Entertainment and Arts                     2207\n",
      "Retail - Home Improvement                  2194\n",
      "Retail - Drug Store                        2193\n",
      "Communications - telephone and wireless    2191\n",
      "Medical                                    2181\n",
      "Retail - Home Electronics                  2161\n",
      "Retail - Pharmacy                          2127\n",
      "Retail - Toys                              1134\n",
      "Education and Instruction                  1129\n",
      "Retail - Floral                            1110\n",
      "Utilities                                  1107\n",
      "Retail - Weapons                           1102\n",
      "Retail - Office and School Supplies        1097\n",
      "e-Retail                                   1095\n",
      "Retail - Convenience Store                 1093\n",
      "Retail - Books                             1081\n",
      "Retail - Jewelry and Watches               1057\n",
      "Spa/Beauty                                 1019\n",
      "Name: Store_Type, dtype: int64\n",
      "****************************************\n",
      "\n",
      "Frequency count for variable Cardholder_Region\n",
      "E     7139\n",
      "N     6946\n",
      "NE    6915\n",
      "S     6896\n",
      "W     6830\n",
      "SW    6804\n",
      "SE    6763\n",
      "NW    6742\n",
      "Name: Cardholder_Region, dtype: int64\n",
      "****************************************\n",
      "\n",
      "Frequency count for variable Country\n",
      "USA               27728\n",
      "Asia               9239\n",
      "European Union     9064\n",
      "Australia          9004\n",
      "Name: Country, dtype: int64\n"
     ]
    }
   ],
   "source": [
    "# Look at categorical variables\n",
    "var = ['Fraudulent', 'Transaction_Type', 'Store_Type', 'Cardholder_Region', 'Country']\n",
    "for v in var:\n",
    "    print(\"****************************************\")\n",
    "    print('\\nFrequency count for variable %s'%v)\n",
    "    print(df_data_1[v].value_counts())"
   ]
  },
  {
   "cell_type": "markdown",
   "metadata": {},
   "source": [
    "<a id='split'></a>\n",
    "\n",
    "## Split into Training and Test\n",
    "<div style=\"text-align: right\"> [Top](#toc) </div>"
   ]
  },
  {
   "cell_type": "code",
   "execution_count": 3,
   "metadata": {},
   "outputs": [
    {
     "name": "stdout",
     "output_type": "stream",
     "text": [
      "Number of training records: 44028\n",
      "Training: T = : 2304\n",
      "Training: F = : 41724\n",
      "Number of testing records : 11007\n",
      "Testing: T = : 599\n",
      "Testing: F = : 10408\n"
     ]
    }
   ],
   "source": [
    "y = df_data_1['Fraudulent'].map(lambda l: 1 if l == 'T' else 0)\n",
    "X = df_data_1.drop(['Fraudulent'], axis=1)\n",
    "\n",
    "from sklearn.model_selection import train_test_split \n",
    "\n",
    "X_train, X_test, y_train, y_test = train_test_split(X, y, test_size=0.2, random_state=1234567)\n",
    "\n",
    "print(\"Number of training records: \" + str(len(X_train)))\n",
    "print(\"Training: T = : \" + str(sum(y_train)))\n",
    "print(\"Training: F = : \" + str(len(X_train) - sum(y_train)))\n",
    "print(\"Number of testing records : \" + str(len(X_test)))\n",
    "print(\"Testing: T = : \" + str(sum(y_test)))\n",
    "print(\"Testing: F = : \" + str(len(X_test) - sum(y_test)))"
   ]
  },
  {
   "cell_type": "markdown",
   "metadata": {},
   "source": [
    "The data is imbalanced. Use SMOTE to rebalance the dataset. Make sure you use Python 3.x."
   ]
  },
  {
   "cell_type": "code",
   "execution_count": 14,
   "metadata": {},
   "outputs": [
    {
     "name": "stdout",
     "output_type": "stream",
     "text": [
      "Collecting imblearn\n",
      "  Downloading https://files.pythonhosted.org/packages/81/a7/4179e6ebfd654bd0eac0b9c06125b8b4c96a9d0a8ff9e9507eb2a26d2d7e/imblearn-0.0-py2.py3-none-any.whl\n",
      "Collecting imbalanced-learn (from imblearn)\n",
      "\u001b[?25l  Downloading https://files.pythonhosted.org/packages/eb/aa/eba717a14df36f0b6f000ebfaf24c3189cd7987130f66cc3513efead8c2a/imbalanced_learn-0.6.1-py3-none-any.whl (162kB)\n",
      "\u001b[K     |████████████████████████████████| 163kB 498kB/s eta 0:00:01\n",
      "\u001b[?25hRequirement already satisfied: joblib>=0.11 in /Users/catherinecao/opt/anaconda3/lib/python3.7/site-packages (from imbalanced-learn->imblearn) (0.13.2)\n",
      "Requirement already satisfied: numpy>=1.11 in /Users/catherinecao/opt/anaconda3/lib/python3.7/site-packages (from imbalanced-learn->imblearn) (1.17.2)\n",
      "Requirement already satisfied: scipy>=0.17 in /Users/catherinecao/opt/anaconda3/lib/python3.7/site-packages (from imbalanced-learn->imblearn) (1.3.1)\n",
      "Collecting scikit-learn>=0.22 (from imbalanced-learn->imblearn)\n",
      "\u001b[?25l  Downloading https://files.pythonhosted.org/packages/b1/db/102a43a72afd2b0938ca039af6047e2a2bf5e5d5eb1bbe38ce616e2d750d/scikit_learn-0.22-cp37-cp37m-macosx_10_6_intel.whl (10.9MB)\n",
      "\u001b[K     |████████████████████████████████| 10.9MB 4.9MB/s eta 0:00:01\n",
      "\u001b[?25hInstalling collected packages: scikit-learn, imbalanced-learn, imblearn\n",
      "  Found existing installation: scikit-learn 0.21.3\n",
      "    Uninstalling scikit-learn-0.21.3:\n",
      "      Successfully uninstalled scikit-learn-0.21.3\n",
      "Successfully installed imbalanced-learn-0.6.1 imblearn-0.0 scikit-learn-0.22\n"
     ]
    }
   ],
   "source": [
    "#!pip install imblearn"
   ]
  },
  {
   "cell_type": "code",
   "execution_count": 8,
   "metadata": {},
   "outputs": [],
   "source": [
    "# restart kernel if see error\n",
    "from imblearn.over_sampling import SMOTENC"
   ]
  },
  {
   "cell_type": "code",
   "execution_count": 10,
   "metadata": {},
   "outputs": [
    {
     "name": "stdout",
     "output_type": "stream",
     "text": [
      "Fraud/Non-Fraud Ratio Before SMOTE: 0.05233033524121014\n",
      "Fraud/Non-Fraud Ratio After SMOTE: 0.5\n",
      "Fraud in Training after SMOTE = T: 41724\n",
      "Fraud in Training after SMOTE = F: 41724\n",
      "\n",
      "************Test Set************\n",
      "\n",
      "Number of testing records : 11007\n",
      "Training: T = : 599\n",
      "Training: F = :10408\n"
     ]
    }
   ],
   "source": [
    "X_train_dummy = pd.get_dummies(X_train)\n",
    "#sm = SMOTE(random_state=2662761, sampling_strategy = 'auto', k_neighbors = 5)\n",
    "sm = SMOTENC(random_state=42, categorical_features=list(range(3, 44)))\n",
    "X_train_res, y_train_res = sm.fit_sample(X_train_dummy, y_train)\n",
    "\n",
    "\n",
    "print('Fraud/Non-Fraud Ratio Before SMOTE: ' + str(y_train.sum()/len(y_train)))\n",
    "print('Fraud/Non-Fraud Ratio After SMOTE: ' + str(y_train_res.sum()/len(y_train_res)))\n",
    "\n",
    "print(\"Fraud in Training after SMOTE = T: \" + str(sum(y_train_res)))\n",
    "print(\"Fraud in Training after SMOTE = F: \" + str(len(y_train_res) - sum(y_train_res)))\n",
    "print(\"\\n************Test Set************\\n\")\n",
    "print(\"Number of testing records : \" + str(len(X_test)))\n",
    "print(\"Training: T = : \" + str(sum(y_test)))\n",
    "print(\"Training: F = :\" + str(len(y_test) - sum(y_test)))"
   ]
  },
  {
   "cell_type": "code",
   "execution_count": 17,
   "metadata": {},
   "outputs": [],
   "source": [
    "# in order to build pipeline, we need to reverse the matrix returned by SMOTE to df\n",
    "X_train_df = pd.DataFrame(X_train_res)\n",
    "X_train_df.columns = pd.get_dummies(X_train).columns.tolist()\n",
    "\n",
    "X_train_df['Transaction_Type'] = X_train_df[['Transaction_Type_keyed', 'Transaction_Type_swiped']].idxmax(axis=1).map(lambda l: l.replace('Transaction_Type_', ''))\n",
    "X_train_df['Store_Type'] = X_train_df[['Store_Type_ATM Withdrawal',\n",
    "       'Store_Type_Communications - telephone and wireless',\n",
    "       'Store_Type_Education and Instruction',\n",
    "       'Store_Type_Entertainment and Arts', 'Store_Type_Gas',\n",
    "       'Store_Type_Grocery', 'Store_Type_Hotel', 'Store_Type_Medical',\n",
    "       'Store_Type_Other', 'Store_Type_Professional Services',\n",
    "       'Store_Type_Restaurant', 'Store_Type_Retail - Apparel',\n",
    "       'Store_Type_Retail - Books', 'Store_Type_Retail - Convenience Store',\n",
    "       'Store_Type_Retail - Drug Store', 'Store_Type_Retail - Floral',\n",
    "       'Store_Type_Retail - Furniture', 'Store_Type_Retail - Home Electronics',\n",
    "       'Store_Type_Retail - Home Improvement',\n",
    "       'Store_Type_Retail - Jewelry and Watches',\n",
    "       'Store_Type_Retail - Office and School Supplies',\n",
    "       'Store_Type_Retail - Pharmacy', 'Store_Type_Retail - Toys',\n",
    "       'Store_Type_Retail - Weapons', 'Store_Type_Spa/Beauty',\n",
    "       'Store_Type_Utilities', 'Store_Type_e-Retail']].idxmax(axis=1).map(lambda l: l.replace('Store_Type_', ''))\n",
    "\n",
    "X_train_df['Country'] = X_train_df[['Country_Asia', 'Country_Australia',\n",
    "       'Country_European Union', 'Country_USA']].idxmax(axis=1).map(lambda l: l.replace('Country_', ''))\n",
    "\n",
    "X_train_df['Cardholder_Region'] = X_train_df[['Cardholder_Region_E',\n",
    "       'Cardholder_Region_N', 'Cardholder_Region_NE', 'Cardholder_Region_NW',\n",
    "       'Cardholder_Region_S', 'Cardholder_Region_SE', 'Cardholder_Region_SW',\n",
    "       'Cardholder_Region_W']].idxmax(axis=1).map(lambda l: l.replace('Cardholder_Region_', ''))\n",
    "\n",
    "X_train_df = X_train_df.drop(['Transaction_Type_keyed', 'Transaction_Type_swiped', 'Store_Type_ATM Withdrawal',\n",
    "       'Store_Type_Communications - telephone and wireless',\n",
    "       'Store_Type_Education and Instruction',\n",
    "       'Store_Type_Entertainment and Arts', 'Store_Type_Gas',\n",
    "       'Store_Type_Grocery', 'Store_Type_Hotel', 'Store_Type_Medical',\n",
    "       'Store_Type_Other', 'Store_Type_Professional Services',\n",
    "       'Store_Type_Restaurant', 'Store_Type_Retail - Apparel',\n",
    "       'Store_Type_Retail - Books', 'Store_Type_Retail - Convenience Store',\n",
    "       'Store_Type_Retail - Drug Store', 'Store_Type_Retail - Floral',\n",
    "       'Store_Type_Retail - Furniture', 'Store_Type_Retail - Home Electronics',\n",
    "       'Store_Type_Retail - Home Improvement',\n",
    "       'Store_Type_Retail - Jewelry and Watches',\n",
    "       'Store_Type_Retail - Office and School Supplies',\n",
    "       'Store_Type_Retail - Pharmacy', 'Store_Type_Retail - Toys',\n",
    "       'Store_Type_Retail - Weapons', 'Store_Type_Spa/Beauty',\n",
    "       'Store_Type_Utilities', 'Store_Type_e-Retail', 'Country_Asia', 'Country_Australia',\n",
    "       'Country_European Union', 'Country_USA', 'Cardholder_Region_E',\n",
    "       'Cardholder_Region_N', 'Cardholder_Region_NE', 'Cardholder_Region_NW',\n",
    "       'Cardholder_Region_S', 'Cardholder_Region_SE', 'Cardholder_Region_SW',\n",
    "       'Cardholder_Region_W'], 1)"
   ]
  },
  {
   "cell_type": "markdown",
   "metadata": {},
   "source": [
    "<a id='xgboost'></a>\n",
    "## XGBoost\n",
    "<div style=\"text-align: right\"> [Top](#toc) </div>"
   ]
  },
  {
   "cell_type": "markdown",
   "metadata": {},
   "source": [
    "<a id='bsl'></a>\n",
    "### Baseline: Default Setting from Modeler\n",
    "<div style=\"text-align: right\"> [Top](#toc) </div>"
   ]
  },
  {
   "cell_type": "markdown",
   "metadata": {},
   "source": [
    "Let's start with the default parameters from Modeler."
   ]
  },
  {
   "cell_type": "code",
   "execution_count": 15,
   "metadata": {},
   "outputs": [],
   "source": [
    "# Note: when applying DataFrameMapper call out all required variables even no transformation needed\n",
    "mapper1 = DataFrameMapper(\n",
    "    [(['Dollar_Amount'], None),\n",
    "     (['Last3hourTransactions'], None),\n",
    "     (['Hours_Since_Last_Transaction'], None),\n",
    "     ('Transaction_Type', LabelBinarizer()), # for binary, only one variable generated\n",
    "     ('Store_Type', LabelBinarizer()),\n",
    "     ('Cardholder_Region', LabelBinarizer()),\n",
    "     ('Country', LabelBinarizer())\n",
    "     ])"
   ]
  },
  {
   "cell_type": "code",
   "execution_count": 18,
   "metadata": {},
   "outputs": [],
   "source": [
    "# smote produce two columns for binary variable, to keep consistancy with dataframe mapper transfomer(produce 1 column for binary) in pipeline later, we maptrsfm the training set here\n",
    "X_train_res_maptrsfm = mapper1.fit_transform(X_train_df)\n",
    "X_test_maptrsfm = mapper1.fit_transform(X_test)"
   ]
  },
  {
   "cell_type": "code",
   "execution_count": 19,
   "metadata": {},
   "outputs": [],
   "source": [
    "xgb_model_spss = XGBClassifier(\n",
    "    tree_method= \"auto\",\n",
    "    n_estimators = 10, \n",
    "    max_depth = 6,\n",
    "    min_child_weight = 1.0,\n",
    "    max_delta_step = 0.0,\n",
    "    objective = \"binary:logistic\",\n",
    "    seed = 6924827,\n",
    "    subsample = 1.0,\n",
    "    learning_rate = .3, # fixed\n",
    "    gamma = 0.0,\n",
    "    colsample_bytree = 1.0,\n",
    "    colsample_bylevel = 1.0,\n",
    "    reg_lambda = 1.0,\n",
    "    reg_alpha = 0.0,\n",
    "    scale_pos_weight = 1.0)"
   ]
  },
  {
   "cell_type": "code",
   "execution_count": 20,
   "metadata": {},
   "outputs": [
    {
     "name": "stdout",
     "output_type": "stream",
     "text": [
      "[0]\tvalidation_0-auc:0.642501\n",
      "Will train until validation_0-auc hasn't improved in 10 rounds.\n",
      "[1]\tvalidation_0-auc:0.649513\n",
      "[2]\tvalidation_0-auc:0.651444\n",
      "[3]\tvalidation_0-auc:0.645609\n",
      "[4]\tvalidation_0-auc:0.651759\n",
      "[5]\tvalidation_0-auc:0.650415\n",
      "[6]\tvalidation_0-auc:0.651413\n",
      "[7]\tvalidation_0-auc:0.656164\n",
      "[8]\tvalidation_0-auc:0.654638\n",
      "[9]\tvalidation_0-auc:0.653524\n"
     ]
    },
    {
     "data": {
      "text/plain": [
       "XGBClassifier(base_score=0.5, booster='gbtree', colsample_bylevel=1.0,\n",
       "              colsample_bynode=1, colsample_bytree=1.0, gamma=0.0,\n",
       "              learning_rate=0.3, max_delta_step=0.0, max_depth=6,\n",
       "              min_child_weight=1.0, missing=None, n_estimators=10, n_jobs=1,\n",
       "              nthread=None, objective='binary:logistic', random_state=0,\n",
       "              reg_alpha=0.0, reg_lambda=1.0, scale_pos_weight=1.0, seed=6924827,\n",
       "              silent=None, subsample=1.0, tree_method='auto', verbosity=1)"
      ]
     },
     "execution_count": 20,
     "metadata": {},
     "output_type": "execute_result"
    }
   ],
   "source": [
    "xgb_model_spss.fit(X_train_res_maptrsfm, y_train_res, early_stopping_rounds=10, eval_metric=\"auc\",\n",
    "        eval_set=[(X_test_maptrsfm, y_test)])"
   ]
  },
  {
   "cell_type": "code",
   "execution_count": 23,
   "metadata": {},
   "outputs": [
    {
     "name": "stdout",
     "output_type": "stream",
     "text": [
      "*****Confusion Matrix *****\n",
      "[[9935  473]\n",
      " [ 530   69]]\n",
      "*****Classification Report*****\n",
      "              precision    recall  f1-score   support\n",
      "\n",
      "           0       0.95      0.95      0.95     10408\n",
      "           1       0.13      0.12      0.12       599\n",
      "\n",
      "    accuracy                           0.91     11007\n",
      "   macro avg       0.54      0.53      0.54     11007\n",
      "weighted avg       0.90      0.91      0.91     11007\n",
      "\n",
      "AUC: 0.656164466398648\n"
     ]
    }
   ],
   "source": [
    "evaluate_it(xgb_model_spss, .5)"
   ]
  },
  {
   "cell_type": "code",
   "execution_count": 76,
   "metadata": {},
   "outputs": [
    {
     "name": "stdout",
     "output_type": "stream",
     "text": [
      "*****Confusion Matrix *****\n",
      "[[8633 1775]\n",
      " [ 423  176]]\n",
      "*****Classification Report*****\n",
      "              precision    recall  f1-score   support\n",
      "\n",
      "           0       0.95      0.83      0.89     10408\n",
      "           1       0.09      0.29      0.14       599\n",
      "\n",
      "    accuracy                           0.80     11007\n",
      "   macro avg       0.52      0.56      0.51     11007\n",
      "weighted avg       0.91      0.80      0.85     11007\n",
      "\n",
      "AUC: 0.656164466398648\n"
     ]
    }
   ],
   "source": [
    "evaluate_it(xgb_model_spss, .2)"
   ]
  },
  {
   "cell_type": "markdown",
   "metadata": {},
   "source": [
    "<a id='imp'></a>\n",
    "### Plot Feature Importance\n",
    "<div style=\"text-align: right\"> [Top](#toc) </div>"
   ]
  },
  {
   "cell_type": "code",
   "execution_count": 24,
   "metadata": {},
   "outputs": [
    {
     "data": {
      "image/png": "[encoded data removed]",
      "text/plain": [
       "<Figure size 936x720 with 1 Axes>"
      ]
     },
     "metadata": {
      "needs_background": "light"
     },
     "output_type": "display_data"
    }
   ],
   "source": [
    "fig, axs = plt.subplots(nrows= 1, figsize=(13, 10))\n",
    "feat_imp = pd.Series(xgb_model_spss._Booster.get_fscore()).sort_values()\n",
    "X_train_dummy_names  =  mapper1.fit(X_train_df).transformed_names_\n",
    "\n",
    "x=[]\n",
    "for i in range(0, len(X_train_dummy_names)):\n",
    "    x.append( \"f\"+ str(i))\n",
    "\n",
    "feat_imp_reindex = feat_imp.rename(lambda y: dict(zip(x, X_train_dummy_names))[y])\n",
    "feat_imp_reindex.plot(kind='barh', title='Feature Importances')\n",
    "fig.show()"
   ]
  },
  {
   "cell_type": "markdown",
   "metadata": {},
   "source": [
    "<a id='ppl'></a>\n",
    "## Build Pipeline\n",
    "<div style=\"text-align: right\"> [Top](#toc) </div>"
   ]
  },
  {
   "cell_type": "markdown",
   "metadata": {},
   "source": [
    "Now let's build transformers into pipeline and deploy the model."
   ]
  },
  {
   "cell_type": "code",
   "execution_count": 25,
   "metadata": {},
   "outputs": [],
   "source": [
    "xgb_model_spss = XGBClassifier(\n",
    "    tree_method= \"auto\",\n",
    "    n_estimators = 10, \n",
    "    max_depth = 6,\n",
    "    min_child_weight = 1.0,\n",
    "    max_delta_step = 0.0,\n",
    "    objective = \"binary:logistic\",\n",
    "    seed = 6924827,\n",
    "    subsample = 1.0,\n",
    "    learning_rate = .3, # fixed\n",
    "    gamma = 0.0,\n",
    "    colsample_bytree = 1.0,\n",
    "    colsample_bylevel = 1.0,\n",
    "    reg_lambda = 1.0,\n",
    "    reg_alpha = 0.0,\n",
    "    scale_pos_weight = 1.0)"
   ]
  },
  {
   "cell_type": "code",
   "execution_count": 26,
   "metadata": {},
   "outputs": [],
   "source": [
    "# build pipeline\n",
    "pipeline = Pipeline([('mapper', mapper1), ('classifier', xgb_model_spss)])"
   ]
  },
  {
   "cell_type": "code",
   "execution_count": 27,
   "metadata": {},
   "outputs": [
    {
     "name": "stdout",
     "output_type": "stream",
     "text": [
      "[0]\tvalidation_0-auc:0.642501\n",
      "Will train until validation_0-auc hasn't improved in 10 rounds.\n",
      "[1]\tvalidation_0-auc:0.649513\n",
      "[2]\tvalidation_0-auc:0.651444\n",
      "[3]\tvalidation_0-auc:0.645609\n",
      "[4]\tvalidation_0-auc:0.651759\n",
      "[5]\tvalidation_0-auc:0.650415\n",
      "[6]\tvalidation_0-auc:0.651413\n",
      "[7]\tvalidation_0-auc:0.656164\n",
      "[8]\tvalidation_0-auc:0.654638\n",
      "[9]\tvalidation_0-auc:0.653524\n"
     ]
    },
    {
     "data": {
      "text/plain": [
       "XGBClassifier(base_score=0.5, booster='gbtree', colsample_bylevel=1.0,\n",
       "              colsample_bynode=1, colsample_bytree=1.0, gamma=0.0,\n",
       "              learning_rate=0.3, max_delta_step=0.0, max_depth=6,\n",
       "              min_child_weight=1.0, missing=None, n_estimators=10, n_jobs=1,\n",
       "              nthread=None, objective='binary:logistic', random_state=0,\n",
       "              reg_alpha=0.0, reg_lambda=1.0, scale_pos_weight=1.0, seed=6924827,\n",
       "              silent=None, subsample=1.0, tree_method='auto', verbosity=1)"
      ]
     },
     "execution_count": 27,
     "metadata": {},
     "output_type": "execute_result"
    }
   ],
   "source": [
    "xgb_model_spss.fit(X_train_res_maptrsfm, y_train_res, early_stopping_rounds=10, eval_metric=\"auc\",\n",
    "        eval_set=[(X_test_maptrsfm, y_test)])"
   ]
  },
  {
   "cell_type": "code",
   "execution_count": 28,
   "metadata": {},
   "outputs": [
    {
     "data": {
      "text/plain": [
       "Pipeline(memory=None,\n",
       "         steps=[('mapper',\n",
       "                 DataFrameMapper(default=False, df_out=False,\n",
       "                                 features=[(['Dollar_Amount'], None),\n",
       "                                           (['Last3hourTransactions'], None),\n",
       "                                           (['Hours_Since_Last_Transaction'],\n",
       "                                            None),\n",
       "                                           ('Transaction_Type',\n",
       "                                            LabelBinarizer(neg_label=0,\n",
       "                                                           pos_label=1,\n",
       "                                                           sparse_output=False)),\n",
       "                                           ('Store_Type',\n",
       "                                            LabelBinarizer(neg_label=0,\n",
       "                                                           pos_label=1,\n",
       "                                                           sparse_output=False)),\n",
       "                                           ('Car...\n",
       "                               colsample_bylevel=1.0, colsample_bynode=1,\n",
       "                               colsample_bytree=1.0, gamma=0.0,\n",
       "                               learning_rate=0.3, max_delta_step=0.0,\n",
       "                               max_depth=6, min_child_weight=1.0, missing=None,\n",
       "                               n_estimators=10, n_jobs=1, nthread=None,\n",
       "                               objective='binary:logistic', random_state=0,\n",
       "                               reg_alpha=0.0, reg_lambda=1.0,\n",
       "                               scale_pos_weight=1.0, seed=6924827, silent=None,\n",
       "                               subsample=1.0, tree_method='auto',\n",
       "                               verbosity=1))],\n",
       "         verbose=False)"
      ]
     },
     "execution_count": 28,
     "metadata": {},
     "output_type": "execute_result"
    }
   ],
   "source": [
    "# fit ppl\n",
    "pipeline.fit(X_train_df, y_train_res)"
   ]
  },
  {
   "cell_type": "code",
   "execution_count": 29,
   "metadata": {},
   "outputs": [
    {
     "name": "stdout",
     "output_type": "stream",
     "text": [
      "*****Confusion Matrix *****\n",
      "[[9935  473]\n",
      " [ 530   69]]\n",
      "*****Classification Report*****\n",
      "              precision    recall  f1-score   support\n",
      "\n",
      "           0       0.95      0.95      0.95     10408\n",
      "           1       0.13      0.12      0.12       599\n",
      "\n",
      "    accuracy                           0.91     11007\n",
      "   macro avg       0.54      0.53      0.54     11007\n",
      "weighted avg       0.90      0.91      0.91     11007\n",
      "\n",
      "ROC: 0.656164466398648\n"
     ]
    }
   ],
   "source": [
    "pred_classifier = pipeline.predict_proba(X_test)[:,1]\n",
    "roc = roc_auc_score(y_test, pred_classifier)\n",
    "print(\"*****Confusion Matrix *****\")\n",
    "print(confusion_matrix(y_test, pred_classifier.round()))\n",
    "print(\"*****Classification Report*****\")\n",
    "print(classification_report(y_test, pred_classifier.round()))\n",
    "print(\"ROC: \" +  str(roc))"
   ]
  },
  {
   "cell_type": "markdown",
   "metadata": {},
   "source": [
    "<a id='save'></a>\n",
    "## Save Model\n",
    "<div style=\"text-align: right\"> [Top](#toc) </div>"
   ]
  },
  {
   "cell_type": "markdown",
   "metadata": {},
   "source": [
    "Need to check if DataMapper is supported by current Local WML. Otherwise, use SPARKML to build pipeline."
   ]
  },
  {
   "cell_type": "code",
   "execution_count": 220,
   "metadata": {},
   "outputs": [],
   "source": [
    "from dsx_ml.ml import save"
   ]
  },
  {
   "cell_type": "code",
   "execution_count": 221,
   "metadata": {},
   "outputs": [
    {
     "data": {
      "text/plain": [
       "{'path': '/user-home/1063/DSX_Projects/Fraud Transactions/models/local_xgb_updated/2',\n",
       " 'scoring_endpoint': 'https://dsxl-api/v3/project/score/Python35/scikit-learn-0.22/Fraud%20Transactions/local_xgb_updated/2'}"
      ]
     },
     "execution_count": 221,
     "metadata": {},
     "output_type": "execute_result"
    }
   ],
   "source": [
    "model_name = \"local_xgb_updated\"\n",
    "save(name = model_name,\n",
    "     model = pipeline,\n",
    "     algorithm_type = 'Classification',\n",
    "     x_test = X_test,\n",
    "     y_test = pd.DataFrame(y_test))"
   ]
  },
  {
   "cell_type": "markdown",
   "metadata": {},
   "source": [
    "<a id='test'></a>\n",
    "## Use scale_pos_weight to take care of imbalance\n",
    "<div style=\"text-align: right\"> [Top](#toc) </div>"
   ]
  },
  {
   "cell_type": "code",
   "execution_count": 32,
   "metadata": {},
   "outputs": [
    {
     "name": "stdout",
     "output_type": "stream",
     "text": [
      "Number of training records: 44028\n",
      "Training: T = : 2304\n",
      "Training: F = : 41724\n",
      "Number of testing records : 11007\n",
      "Testing: T = : 599\n",
      "Testing: F = : 10408\n"
     ]
    }
   ],
   "source": [
    "print(\"Number of training records: \" + str(len(X_train)))\n",
    "print(\"Training: T = : \" + str(sum(y_train)))\n",
    "print(\"Training: F = : \" + str(len(X_train) - sum(y_train)))\n",
    "print(\"Number of testing records : \" + str(len(X_test)))\n",
    "print(\"Testing: T = : \" + str(sum(y_test)))\n",
    "print(\"Testing: F = : \" + str(len(X_test) - sum(y_test)))"
   ]
  },
  {
   "cell_type": "code",
   "execution_count": 33,
   "metadata": {},
   "outputs": [],
   "source": [
    "X_train_withoutSMOTE = mapper1.fit_transform(X_train)\n",
    "X_test_withoutSMOTE = mapper1.fit_transform(X_test)"
   ]
  },
  {
   "cell_type": "code",
   "execution_count": 39,
   "metadata": {},
   "outputs": [],
   "source": [
    "# rule of thumb\n",
    "spw = round(np.sqrt(41724/2304))"
   ]
  },
  {
   "cell_type": "code",
   "execution_count": 83,
   "metadata": {},
   "outputs": [],
   "source": [
    "xgb_model = XGBClassifier(\n",
    "    tree_method= \"auto\",\n",
    "    n_estimators = 10, \n",
    "    max_depth = 6,\n",
    "    min_child_weight = 1.0,\n",
    "    max_delta_step = 0.0,\n",
    "    objective = \"binary:logistic\",\n",
    "    seed = 6924827,\n",
    "    subsample = 1.0,\n",
    "    learning_rate = .3, # fixed\n",
    "    gamma = 0.0,\n",
    "    colsample_bytree = 1.0,\n",
    "    colsample_bylevel = 1.0,\n",
    "    reg_lambda = 1.0,\n",
    "    reg_alpha = 0.0,\n",
    "    scale_pos_weight = 4)"
   ]
  },
  {
   "cell_type": "code",
   "execution_count": 84,
   "metadata": {},
   "outputs": [
    {
     "name": "stdout",
     "output_type": "stream",
     "text": [
      "[0]\tvalidation_0-auc:0.667062\n",
      "Will train until validation_0-auc hasn't improved in 20 rounds.\n",
      "[1]\tvalidation_0-auc:0.668606\n",
      "[2]\tvalidation_0-auc:0.67033\n",
      "[3]\tvalidation_0-auc:0.670184\n",
      "[4]\tvalidation_0-auc:0.671995\n",
      "[5]\tvalidation_0-auc:0.67435\n",
      "[6]\tvalidation_0-auc:0.671631\n",
      "[7]\tvalidation_0-auc:0.671261\n",
      "[8]\tvalidation_0-auc:0.672153\n",
      "[9]\tvalidation_0-auc:0.668923\n"
     ]
    },
    {
     "data": {
      "text/plain": [
       "XGBClassifier(base_score=0.5, booster='gbtree', colsample_bylevel=1.0,\n",
       "              colsample_bynode=1, colsample_bytree=1.0, gamma=0.0,\n",
       "              learning_rate=0.3, max_delta_step=0.0, max_depth=6,\n",
       "              min_child_weight=1.0, missing=None, n_estimators=10, n_jobs=1,\n",
       "              nthread=None, objective='binary:logistic', random_state=0,\n",
       "              reg_alpha=0.0, reg_lambda=1.0, scale_pos_weight=4, seed=6924827,\n",
       "              silent=None, subsample=1.0, tree_method='auto', verbosity=1)"
      ]
     },
     "execution_count": 84,
     "metadata": {},
     "output_type": "execute_result"
    }
   ],
   "source": [
    "xgb_model.fit(X_train_withoutSMOTE, y_train, early_stopping_rounds=20, eval_metric=\"auc\",\n",
    "        eval_set=[(X_test_withoutSMOTE, y_test)])"
   ]
  },
  {
   "cell_type": "code",
   "execution_count": 89,
   "metadata": {},
   "outputs": [
    {
     "name": "stdout",
     "output_type": "stream",
     "text": [
      "*****Confusion Matrix *****\n",
      "[[6221 4187]\n",
      " [ 200  399]]\n",
      "*****Classification Report*****\n",
      "              precision    recall  f1-score   support\n",
      "\n",
      "           0       0.97      0.60      0.74     10408\n",
      "           1       0.09      0.67      0.15       599\n",
      "\n",
      "    accuracy                           0.60     11007\n",
      "   macro avg       0.53      0.63      0.45     11007\n",
      "weighted avg       0.92      0.60      0.71     11007\n",
      "\n",
      "AUC: 0.6743502012706291\n"
     ]
    }
   ],
   "source": [
    "evaluate_it(xgb_model, .2)"
   ]
  },
  {
   "cell_type": "code",
   "execution_count": 64,
   "metadata": {},
   "outputs": [
    {
     "name": "stdout",
     "output_type": "stream",
     "text": [
      "[0]\tvalidation_0-auc:0.65191\n",
      "Will train until validation_0-auc hasn't improved in 20 rounds.\n",
      "[1]\tvalidation_0-auc:0.653981\n",
      "[2]\tvalidation_0-auc:0.655126\n",
      "[3]\tvalidation_0-auc:0.659618\n",
      "[4]\tvalidation_0-auc:0.661355\n",
      "[5]\tvalidation_0-auc:0.662541\n",
      "[6]\tvalidation_0-auc:0.667005\n",
      "[7]\tvalidation_0-auc:0.665705\n",
      "[8]\tvalidation_0-auc:0.662048\n",
      "[9]\tvalidation_0-auc:0.661806\n",
      "*****Confusion Matrix *****\n",
      "[[7028 3380]\n",
      " [ 245  354]]\n",
      "*****Classification Report*****\n",
      "              precision    recall  f1-score   support\n",
      "\n",
      "           0       0.97      0.68      0.79     10408\n",
      "           1       0.09      0.59      0.16       599\n",
      "\n",
      "    accuracy                           0.67     11007\n",
      "   macro avg       0.53      0.63      0.48     11007\n",
      "weighted avg       0.92      0.67      0.76     11007\n",
      "\n",
      "AUC: 0.6670048177913741\n"
     ]
    }
   ],
   "source": [
    "xgb_model = XGBClassifier(\n",
    "    tree_method= \"auto\",\n",
    "    n_estimators = 10, \n",
    "    max_depth = 6,\n",
    "    min_child_weight = 1.0,\n",
    "    max_delta_step = 0.0,\n",
    "    objective = \"binary:logistic\",\n",
    "    seed = 6924827,\n",
    "    subsample = 1.0,\n",
    "    learning_rate = .3, # fixed\n",
    "    gamma = 0.0,\n",
    "    colsample_bytree = 1.0,\n",
    "    colsample_bylevel = 1.0,\n",
    "    reg_lambda = 1.0,\n",
    "    reg_alpha = 0.0,\n",
    "    scale_pos_weight = 18)\n",
    "\n",
    "xgb_model.fit(X_train_withoutSMOTE, y_train, early_stopping_rounds=20, eval_metric=\"auc\",\n",
    "        eval_set=[(X_test_withoutSMOTE, y_test)])\n",
    "\n",
    "\n",
    "evaluate_it(xgb_model)\n"
   ]
  },
  {
   "cell_type": "code",
   "execution_count": 61,
   "metadata": {},
   "outputs": [
    {
     "name": "stdout",
     "output_type": "stream",
     "text": [
      "*****SMOTE Results*****\n",
      "*****Confusion Matrix *****\n",
      "[[9935  473]\n",
      " [ 530   69]]\n",
      "*****Classification Report*****\n",
      "              precision    recall  f1-score   support\n",
      "\n",
      "           0       0.95      0.95      0.95     10408\n",
      "           1       0.13      0.12      0.12       599\n",
      "\n",
      "    accuracy                           0.91     11007\n",
      "   macro avg       0.54      0.53      0.54     11007\n",
      "weighted avg       0.90      0.91      0.91     11007\n",
      "\n",
      "ROC: 0.656164466398648\n"
     ]
    }
   ],
   "source": [
    "print(\"*****SMOTE Results*****\")\n",
    "print(\"*****Confusion Matrix *****\")\n",
    "print(confusion_matrix(y_test, pred_classifier.round()))\n",
    "print(\"*****Classification Report*****\")\n",
    "print(classification_report(y_test, pred_classifier.round()))\n",
    "print(\"ROC: \" +  str(roc))"
   ]
  },
  {
   "cell_type": "markdown",
   "metadata": {},
   "source": [
    "<a id='test'></a>\n",
    "## Note:\n",
    "\n",
    "1. In this case, SMOTE helped get a better recall for the positive class(Fraud). A good recall is prefered for fraud detection if you want to be conservative and capture all potential fraud.\n",
    "\n",
    "2. Increasing scale_pos_weight trades off precision for the minor class and recall for the major class.\n",
    "\n",
    "2. SMOTE creates synthetic observations instead of reusing existing observations, so classifier is less likely to overfit, but have to check if those new observations are realistic.\n",
    "\n",
    "3. [Disadvantages of SMOTE](https://www.datacamp.com/community/tutorials/diving-deep-imbalanced-data): While generating synthetic examples, SMOTE does not take into consideration neighboring examples can be from other classes. This can increase the overlapping of classes and can introduce additional noise.\n",
    "SMOTE is not very practical for **high dimensional data**."
   ]
  },
  {
   "cell_type": "markdown",
   "metadata": {},
   "source": [
    "## Reads:\n",
    "    * Performance evaluation of class balancing techniques for credit card fraud detection: https://ieeexplore.ieee.org/document/8392219\n",
    "    \n",
    "    * Deep dive into imbalanced data: https://www.datacamp.com/community/tutorials/diving-deep-imbalanced-data\n",
    "    \n",
    "    * Another IBM notebook on Kaggle Credit Card Default dataset: https://github.com/IBM/xgboost-smote-detect-fraud/blob/master/notebook/Fraud_Detection.ipynb\n",
    "    \n",
    "    * A review on  Class Imbalance Problem: http://www.softcomputing.net/jnic2.pdf"
   ]
  },
  {
   "cell_type": "code",
   "execution_count": null,
   "metadata": {},
   "outputs": [],
   "source": []
  }
 ],
 "metadata": {
  "anaconda-cloud": {},
  "kernelspec": {
   "display_name": "Python 3",
   "language": "python",
   "name": "python3"
  },
  "language_info": {
   "codemirror_mode": {
    "name": "ipython",
    "version": 3
   },
   "file_extension": ".py",
   "mimetype": "text/x-python",
   "name": "python",
   "nbconvert_exporter": "python",
   "pygments_lexer": "ipython3",
   "version": "3.7.4"
  }
 },
 "nbformat": 4,
 "nbformat_minor": 2
}
