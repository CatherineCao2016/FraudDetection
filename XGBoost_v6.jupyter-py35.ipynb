{
 "cells": [
  {
   "cell_type": "markdown",
   "metadata": {},
   "source": [
    "# Fraud Detection For WSL"
   ]
  },
  {
   "cell_type": "markdown",
   "metadata": {},
   "source": [
    "## Import libraries"
   ]
  },
  {
   "cell_type": "code",
   "execution_count": 276,
   "metadata": {
    "collapsed": false,
    "deletable": true,
    "editable": true
   },
   "outputs": [],
   "source": [
    "import numpy as np\n",
    "import pandas as pd\n",
    "from sklearn.metrics import roc_auc_score, confusion_matrix, classification_report\n",
    "\n",
    "import warnings\n",
    "warnings.filterwarnings('ignore')\n",
    "\n",
    "import matplotlib.pyplot as plt\n",
    "%matplotlib inline\n",
    "\n",
    "from pyspark.ml.feature import OneHotEncoder, StringIndexer, VectorAssembler, IndexToString\n",
    "\n",
    "from pyspark import SparkContext, SparkConf\n",
    "from pyspark.sql import SparkSession\n",
    "import os\n",
    "from pyspark.ml.classification import RandomForestClassifier\n",
    "from pyspark.ml import Pipeline\n",
    "\n",
    "import itertools\n",
    "\n",
    "from xgboost import XGBClassifier\n",
    "from sklearn.preprocessing import LabelBinarizer, StandardScaler\n",
    "from sklearn_pandas import DataFrameMapper"
   ]
  },
  {
   "cell_type": "markdown",
   "metadata": {},
   "source": [
    "## Load data"
   ]
  },
  {
   "cell_type": "code",
   "execution_count": 163,
   "metadata": {
    "collapsed": false,
    "deletable": true,
    "editable": true
   },
   "outputs": [
    {
     "data": {
      "text/html": [
       "<div>\n",
       "<style scoped>\n",
       "    .dataframe tbody tr th:only-of-type {\n",
       "        vertical-align: middle;\n",
       "    }\n",
       "\n",
       "    .dataframe tbody tr th {\n",
       "        vertical-align: top;\n",
       "    }\n",
       "\n",
       "    .dataframe thead th {\n",
       "        text-align: right;\n",
       "    }\n",
       "</style>\n",
       "<table border=\"1\" class=\"dataframe\">\n",
       "  <thead>\n",
       "    <tr style=\"text-align: right;\">\n",
       "      <th></th>\n",
       "      <th>Dollar_Amount</th>\n",
       "      <th>Transaction_Type</th>\n",
       "      <th>Store_Type</th>\n",
       "      <th>Cardholder_Region</th>\n",
       "      <th>Country</th>\n",
       "      <th>Fraudulent</th>\n",
       "      <th>Last3hourTransactions</th>\n",
       "      <th>Hours_Since_Last_Transaction</th>\n",
       "    </tr>\n",
       "  </thead>\n",
       "  <tbody>\n",
       "    <tr>\n",
       "      <th>0</th>\n",
       "      <td>188.56</td>\n",
       "      <td>swiped</td>\n",
       "      <td>ATM Withdrawal</td>\n",
       "      <td>E</td>\n",
       "      <td>USA</td>\n",
       "      <td>F</td>\n",
       "      <td>4</td>\n",
       "      <td>21</td>\n",
       "    </tr>\n",
       "    <tr>\n",
       "      <th>1</th>\n",
       "      <td>160.54</td>\n",
       "      <td>keyed</td>\n",
       "      <td>Grocery</td>\n",
       "      <td>NE</td>\n",
       "      <td>Australia</td>\n",
       "      <td>F</td>\n",
       "      <td>3</td>\n",
       "      <td>21</td>\n",
       "    </tr>\n",
       "    <tr>\n",
       "      <th>2</th>\n",
       "      <td>153.24</td>\n",
       "      <td>swiped</td>\n",
       "      <td>Retail - Pharmacy</td>\n",
       "      <td>SW</td>\n",
       "      <td>European Union</td>\n",
       "      <td>T</td>\n",
       "      <td>2</td>\n",
       "      <td>21</td>\n",
       "    </tr>\n",
       "    <tr>\n",
       "      <th>3</th>\n",
       "      <td>148.66</td>\n",
       "      <td>keyed</td>\n",
       "      <td>Communications - telephone and wireless</td>\n",
       "      <td>NW</td>\n",
       "      <td>USA</td>\n",
       "      <td>F</td>\n",
       "      <td>1</td>\n",
       "      <td>35</td>\n",
       "    </tr>\n",
       "    <tr>\n",
       "      <th>4</th>\n",
       "      <td>174.03</td>\n",
       "      <td>keyed</td>\n",
       "      <td>Spa/Beauty</td>\n",
       "      <td>SW</td>\n",
       "      <td>Asia</td>\n",
       "      <td>F</td>\n",
       "      <td>1</td>\n",
       "      <td>25</td>\n",
       "    </tr>\n",
       "  </tbody>\n",
       "</table>\n",
       "</div>"
      ],
      "text/plain": [
       "   Dollar_Amount Transaction_Type                               Store_Type  \\\n",
       "0         188.56           swiped                           ATM Withdrawal   \n",
       "1         160.54            keyed                                  Grocery   \n",
       "2         153.24           swiped                        Retail - Pharmacy   \n",
       "3         148.66            keyed  Communications - telephone and wireless   \n",
       "4         174.03            keyed                               Spa/Beauty   \n",
       "\n",
       "  Cardholder_Region         Country Fraudulent  Last3hourTransactions  \\\n",
       "0                 E             USA          F                      4   \n",
       "1                NE       Australia          F                      3   \n",
       "2                SW  European Union          T                      2   \n",
       "3                NW             USA          F                      1   \n",
       "4                SW            Asia          F                      1   \n",
       "\n",
       "   Hours_Since_Last_Transaction  \n",
       "0                            21  \n",
       "1                            21  \n",
       "2                            21  \n",
       "3                            35  \n",
       "4                            25  "
      ]
     },
     "execution_count": 163,
     "metadata": {},
     "output_type": "execute_result"
    }
   ],
   "source": [
    "import os, pandas as pd\n",
    "# Add asset from file system\n",
    "df_data_1 = pd.read_csv(os.environ['DSX_PROJECT_DIR']+'/datasets/History_Transactions_v4.csv')\n",
    "# only keep variables we will use later\n",
    "df_data_1 = df_data_1[['Dollar_Amount', \n",
    "                       'Transaction_Type',\n",
    "                       'Store_Type', \n",
    "                       'Cardholder_Region', \n",
    "                       'Country',\n",
    "                       'Fraudulent',\n",
    "                       'Last3hourTransactions',\n",
    "                       'Hours_Since_Last_Transaction'\n",
    "                      ]]\n",
    "df_data_1.head()"
   ]
  },
  {
   "cell_type": "code",
   "execution_count": 3,
   "metadata": {
    "collapsed": false,
    "deletable": true,
    "editable": true
   },
   "outputs": [
    {
     "data": {
      "text/plain": [
       "Dollar_Amount                   0\n",
       "Transaction_Type                0\n",
       "Store_Type                      0\n",
       "Cardholder_Region               0\n",
       "Country                         0\n",
       "Fraudulent                      0\n",
       "Last3hourTransactions           0\n",
       "Hours_Since_Last_Transaction    0\n",
       "dtype: int64"
      ]
     },
     "execution_count": 3,
     "metadata": {},
     "output_type": "execute_result"
    }
   ],
   "source": [
    "# check missing\n",
    "df_data_1.apply(lambda x: sum(x.isnull()))"
   ]
  },
  {
   "cell_type": "code",
   "execution_count": 4,
   "metadata": {
    "collapsed": false,
    "deletable": true,
    "editable": true
   },
   "outputs": [
    {
     "name": "stdout",
     "output_type": "stream",
     "text": [
      "****************************************\n",
      "\n",
      "Frequency count for variable Fraudulent\n",
      "F    52132\n",
      "T     2903\n",
      "Name: Fraudulent, dtype: int64\n",
      "****************************************\n",
      "\n",
      "Frequency count for variable Transaction_Type\n",
      "swiped    27623\n",
      "keyed     27412\n",
      "Name: Transaction_Type, dtype: int64\n",
      "****************************************\n",
      "\n",
      "Frequency count for variable Store_Type\n",
      "Restaurant                                 4470\n",
      "Professional Services                      3443\n",
      "Grocery                                    3403\n",
      "Gas                                        3261\n",
      "Other                                      3226\n",
      "Hotel                                      3206\n",
      "Retail - Apparel                           2276\n",
      "ATM Withdrawal                             2240\n",
      "Retail - Furniture                         2232\n",
      "Entertainment and Arts                     2207\n",
      "Retail - Home Improvement                  2194\n",
      "Retail - Drug Store                        2193\n",
      "Communications - telephone and wireless    2191\n",
      "Medical                                    2181\n",
      "Retail - Home Electronics                  2161\n",
      "Retail - Pharmacy                          2127\n",
      "Retail - Toys                              1134\n",
      "Education and Instruction                  1129\n",
      "Retail - Floral                            1110\n",
      "Utilities                                  1107\n",
      "Retail - Weapons                           1102\n",
      "Retail - Office and School Supplies        1097\n",
      "e-Retail                                   1095\n",
      "Retail - Convenience Store                 1093\n",
      "Retail - Books                             1081\n",
      "Retail - Jewelry and Watches               1057\n",
      "Spa/Beauty                                 1019\n",
      "Name: Store_Type, dtype: int64\n",
      "****************************************\n",
      "\n",
      "Frequency count for variable Cardholder_Region\n",
      "E     7139\n",
      "N     6946\n",
      "NE    6915\n",
      "S     6896\n",
      "W     6830\n",
      "SW    6804\n",
      "SE    6763\n",
      "NW    6742\n",
      "Name: Cardholder_Region, dtype: int64\n",
      "****************************************\n",
      "\n",
      "Frequency count for variable Country\n",
      "USA               27728\n",
      "Asia               9239\n",
      "European Union     9064\n",
      "Australia          9004\n",
      "Name: Country, dtype: int64\n"
     ]
    }
   ],
   "source": [
    "# Look at categorical variables\n",
    "var = ['Fraudulent', 'Transaction_Type', 'Store_Type', 'Cardholder_Region', 'Country']\n",
    "for v in var:\n",
    "    print(\"****************************************\")\n",
    "    print('\\nFrequency count for variable %s'%v)\n",
    "    print(df_data_1[v].value_counts())"
   ]
  },
  {
   "cell_type": "markdown",
   "metadata": {},
   "source": [
    "## Split into training and test sets"
   ]
  },
  {
   "cell_type": "code",
   "execution_count": 164,
   "metadata": {
    "collapsed": false,
    "deletable": true,
    "editable": true
   },
   "outputs": [
    {
     "name": "stdout",
     "output_type": "stream",
     "text": [
      "Number of training records: 44028\n",
      "Training: T = : 2304\n",
      "Training: F = : 41724\n",
      "Number of testing records : 11007\n",
      "Testing: T = : 599\n",
      "Testing: F = : 10408\n"
     ]
    }
   ],
   "source": [
    "y = df_data_1['Fraudulent'].map(lambda l: 1 if l == 'T' else 0)\n",
    "X = df_data_1.drop(['Fraudulent'], axis=1)\n",
    "\n",
    "from sklearn.model_selection import train_test_split \n",
    "\n",
    "X_train, X_test, y_train, y_test = train_test_split(X, y, test_size=0.2, random_state=1234567)\n",
    "\n",
    "print(\"Number of training records: \" + str(len(X_train)))\n",
    "print(\"Training: T = : \" + str(sum(y_train)))\n",
    "print(\"Training: F = : \" + str(len(X_train) - sum(y_train)))\n",
    "print(\"Number of testing records : \" + str(len(X_test)))\n",
    "print(\"Testing: T = : \" + str(sum(y_test)))\n",
    "print(\"Testing: F = : \" + str(len(X_test) - sum(y_test)))"
   ]
  },
  {
   "cell_type": "markdown",
   "metadata": {},
   "source": [
    "## Use SMOTE to rebalance the training set"
   ]
  },
  {
   "cell_type": "code",
   "execution_count": 165,
   "metadata": {
    "collapsed": false,
    "deletable": true,
    "editable": true
   },
   "outputs": [],
   "source": [
    "from imblearn.over_sampling import SMOTENC"
   ]
  },
  {
   "cell_type": "code",
   "execution_count": 189,
   "metadata": {
    "collapsed": false,
    "deletable": true,
    "editable": true
   },
   "outputs": [
    {
     "name": "stdout",
     "output_type": "stream",
     "text": [
      "Fraud/Non-Fraud Ratio Before SMOTE: 0.05233033524121014\n",
      "Fraud/Non-Fraud Ratio After SMOTE: 0.5\n",
      "Fraud in Training after SMOTE = T: 41724\n",
      "Fraud in Training after SMOTE = F: 41724\n",
      "\n",
      "************Test Set************\n",
      "\n",
      "Number of testing records : 11007\n",
      "Training: T = : 599\n",
      "Training: F = :10408\n"
     ]
    }
   ],
   "source": [
    "X_train_dummy = pd.get_dummies(X_train)\n",
    "#sm = SMOTE(random_state=2662761, sampling_strategy = 'auto', k_neighbors = 5)\n",
    "sm = SMOTENC(random_state=42, categorical_features=list(range(3, 44)))\n",
    "X_train_res, y_train_res = sm.fit_sample(X_train_dummy, y_train)\n",
    "\n",
    "print('Fraud/Non-Fraud Ratio Before SMOTE: ' + str(y_train.sum()/len(y_train)))\n",
    "print('Fraud/Non-Fraud Ratio After SMOTE: ' + str(y_train_res.sum()/len(y_train_res)))\n",
    "\n",
    "print(\"Fraud in Training after SMOTE = T: \" + str(sum(y_train_res)))\n",
    "print(\"Fraud in Training after SMOTE = F: \" + str(len(y_train_res) - sum(y_train_res)))\n",
    "print(\"\\n************Test Set************\\n\")\n",
    "print(\"Number of testing records : \" + str(len(X_test)))\n",
    "print(\"Training: T = : \" + str(sum(y_test)))\n",
    "print(\"Training: F = :\" + str(len(y_test) - sum(y_test)))"
   ]
  },
  {
   "cell_type": "code",
   "execution_count": 190,
   "metadata": {
    "collapsed": false,
    "deletable": true,
    "editable": true
   },
   "outputs": [],
   "source": [
    "# in order to build pipeline, we need to reverse the matrix returned by SMOTE to df\n",
    "X_train_df = pd.DataFrame(X_train_res)\n",
    "X_train_df.columns = pd.get_dummies(X_train).columns.tolist()\n",
    "\n",
    "X_train_df['Transaction_Type'] = X_train_df[['Transaction_Type_keyed', 'Transaction_Type_swiped']].idxmax(axis=1).map(lambda l: l.replace('Transaction_Type_', ''))\n",
    "X_train_df['Store_Type'] = X_train_df[['Store_Type_ATM Withdrawal',\n",
    "       'Store_Type_Communications - telephone and wireless',\n",
    "       'Store_Type_Education and Instruction',\n",
    "       'Store_Type_Entertainment and Arts', 'Store_Type_Gas',\n",
    "       'Store_Type_Grocery', 'Store_Type_Hotel', 'Store_Type_Medical',\n",
    "       'Store_Type_Other', 'Store_Type_Professional Services',\n",
    "       'Store_Type_Restaurant', 'Store_Type_Retail - Apparel',\n",
    "       'Store_Type_Retail - Books', 'Store_Type_Retail - Convenience Store',\n",
    "       'Store_Type_Retail - Drug Store', 'Store_Type_Retail - Floral',\n",
    "       'Store_Type_Retail - Furniture', 'Store_Type_Retail - Home Electronics',\n",
    "       'Store_Type_Retail - Home Improvement',\n",
    "       'Store_Type_Retail - Jewelry and Watches',\n",
    "       'Store_Type_Retail - Office and School Supplies',\n",
    "       'Store_Type_Retail - Pharmacy', 'Store_Type_Retail - Toys',\n",
    "       'Store_Type_Retail - Weapons', 'Store_Type_Spa/Beauty',\n",
    "       'Store_Type_Utilities', 'Store_Type_e-Retail']].idxmax(axis=1).map(lambda l: l.replace('Store_Type_', ''))\n",
    "\n",
    "X_train_df['Country'] = X_train_df[['Country_Asia', 'Country_Australia',\n",
    "       'Country_European Union', 'Country_USA']].idxmax(axis=1).map(lambda l: l.replace('Country_', ''))\n",
    "\n",
    "X_train_df['Cardholder_Region'] = X_train_df[['Cardholder_Region_E',\n",
    "       'Cardholder_Region_N', 'Cardholder_Region_NE', 'Cardholder_Region_NW',\n",
    "       'Cardholder_Region_S', 'Cardholder_Region_SE', 'Cardholder_Region_SW',\n",
    "       'Cardholder_Region_W']].idxmax(axis=1).map(lambda l: l.replace('Cardholder_Region_', ''))\n",
    "\n",
    "X_train_df = X_train_df.drop(['Transaction_Type_keyed', 'Transaction_Type_swiped', 'Store_Type_ATM Withdrawal',\n",
    "       'Store_Type_Communications - telephone and wireless',\n",
    "       'Store_Type_Education and Instruction',\n",
    "       'Store_Type_Entertainment and Arts', 'Store_Type_Gas',\n",
    "       'Store_Type_Grocery', 'Store_Type_Hotel', 'Store_Type_Medical',\n",
    "       'Store_Type_Other', 'Store_Type_Professional Services',\n",
    "       'Store_Type_Restaurant', 'Store_Type_Retail - Apparel',\n",
    "       'Store_Type_Retail - Books', 'Store_Type_Retail - Convenience Store',\n",
    "       'Store_Type_Retail - Drug Store', 'Store_Type_Retail - Floral',\n",
    "       'Store_Type_Retail - Furniture', 'Store_Type_Retail - Home Electronics',\n",
    "       'Store_Type_Retail - Home Improvement',\n",
    "       'Store_Type_Retail - Jewelry and Watches',\n",
    "       'Store_Type_Retail - Office and School Supplies',\n",
    "       'Store_Type_Retail - Pharmacy', 'Store_Type_Retail - Toys',\n",
    "       'Store_Type_Retail - Weapons', 'Store_Type_Spa/Beauty',\n",
    "       'Store_Type_Utilities', 'Store_Type_e-Retail', 'Country_Asia', 'Country_Australia',\n",
    "       'Country_European Union', 'Country_USA', 'Cardholder_Region_E',\n",
    "       'Cardholder_Region_N', 'Cardholder_Region_NE', 'Cardholder_Region_NW',\n",
    "       'Cardholder_Region_S', 'Cardholder_Region_SE', 'Cardholder_Region_SW',\n",
    "       'Cardholder_Region_W'], 1)"
   ]
  },
  {
   "cell_type": "markdown",
   "metadata": {},
   "source": [
    "## Building Pipeline"
   ]
  },
  {
   "cell_type": "code",
   "execution_count": 181,
   "metadata": {
    "collapsed": true
   },
   "outputs": [],
   "source": [
    "numCols = [\"Dollar_Amount\", \"Last3hourTransactions\", \"Hours_Since_Last_Transaction\"]\n",
    "catCols = [\"Transaction_Type\", \"Store_Type\", \"Cardholder_Region\", \"Country\"]\n",
    "label_Col = ['Fraudulent']"
   ]
  },
  {
   "cell_type": "code",
   "execution_count": 195,
   "metadata": {
    "collapsed": false
   },
   "outputs": [],
   "source": [
    "# Feature Engineering\n",
    "SI1 = StringIndexer(inputCol='Transaction_Type', outputCol='Transaction_Type'+'Index')\n",
    "\n",
    "OH1 = OneHotEncoder(inputCol='Transaction_Type' + 'Index', outputCol='Transaction_Type' + 'classVec')\n",
    "\n",
    "SI2 = StringIndexer(inputCol='Store_Type', outputCol='Store_Type'+'Index')\n",
    "\n",
    "OH2 = OneHotEncoder(inputCol='Store_Type' + 'Index', outputCol='Store_Type' + 'classVec')\n",
    "\n",
    "SI3 = StringIndexer(inputCol='Cardholder_Region', outputCol='Cardholder_Region'+'Index')\n",
    "\n",
    "OH3 = OneHotEncoder(inputCol='Cardholder_Region' + 'Index', outputCol='Cardholder_Region' + 'classVec')\n",
    "\n",
    "SI4 = StringIndexer(inputCol='Country', outputCol='Country'+'Index')\n",
    "\n",
    "OH4 = OneHotEncoder(inputCol='Country' + 'Index', outputCol='Country' + 'classVec')\n",
    "\n",
    "assemblerInputs = list(map(lambda c: c + \"classVec\", catCols)) + numCols\n",
    "\n",
    "assembler = VectorAssembler(inputCols=assemblerInputs, outputCol=\"features\")\n",
    "\n",
    "rf = RandomForestClassifier()\n",
    "\n",
    "ppl_build = Pipeline(stages=[SI1, OH1, SI2, OH2, SI3, OH3, SI4, OH4, assembler, rf])"
   ]
  },
  {
   "cell_type": "code",
   "execution_count": 194,
   "metadata": {
    "collapsed": true
   },
   "outputs": [],
   "source": [
    "# change to spark dataframe\n",
    "X_train_df[\"label\"] = y_train_res\n",
    "train_data = spark.createDataFrame(X_train_df)\n",
    "X_test['label'] = y_test\n",
    "test_data = spark.createDataFrame(X_test)"
   ]
  },
  {
   "cell_type": "code",
   "execution_count": 196,
   "metadata": {
    "collapsed": false
   },
   "outputs": [],
   "source": [
    "#fit the pipeline\n",
    "ppl_fit = ppl_build.fit(train_data)"
   ]
  },
  {
   "cell_type": "markdown",
   "metadata": {},
   "source": [
    "## Feature Importance"
   ]
  },
  {
   "cell_type": "code",
   "execution_count": 275,
   "metadata": {
    "collapsed": false
   },
   "outputs": [
    {
     "data": {
      "text/plain": [
       "<matplotlib.axes._subplots.AxesSubplot at 0x7f764f334198>"
      ]
     },
     "execution_count": 275,
     "metadata": {},
     "output_type": "execute_result"
    },
    {
     "data": {
      "image/png": "[encoded data removed]",
      "text/plain": [
       "<Figure size 936x720 with 1 Axes>"
      ]
     },
     "metadata": {
      "needs_background": "light"
     },
     "output_type": "display_data"
    }
   ],
   "source": [
    "mapper1 = DataFrameMapper(\n",
    "    [(['Dollar_Amount'], None),\n",
    "     (['Last3hourTransactions'], None),\n",
    "     (['Hours_Since_Last_Transaction'], None),\n",
    "     ('Transaction_Type', LabelBinarizer()), # for binary, only one variable generated\n",
    "     ('Store_Type', LabelBinarizer()),\n",
    "     ('Cardholder_Region', LabelBinarizer()),\n",
    "     ('Country', LabelBinarizer())\n",
    "     ])\n",
    "\n",
    "X_train_res_maptrsfm = mapper1.fit_transform(X_train_df)\n",
    "X_test_maptrsfm = mapper1.fit_transform(X_test)\n",
    "\n",
    "xgb_model_spss = XGBClassifier()\n",
    "\n",
    "xgb_model_spss.fit(X_train_res_maptrsfm, y_train_res)\n",
    "\n",
    "fig, axs = plt.subplots(nrows= 1, figsize=(13, 10))\n",
    "feat_imp = pd.Series(xgb_model_spss._Booster.get_fscore()).sort_values()\n",
    "X_train_dummy_names  =  mapper1.fit(X_train_df).transformed_names_\n",
    "\n",
    "x=[]\n",
    "for i in range(0, len(X_train_dummy_names)):\n",
    "    x.append( \"f\"+ str(i))\n",
    "\n",
    "feat_imp_reindex = feat_imp.rename(lambda y: dict(zip(x, X_train_dummy_names))[y])\n",
    "feat_imp_reindex.plot(kind='barh', title='Feature Importances')"
   ]
  },
  {
   "cell_type": "markdown",
   "metadata": {},
   "source": [
    "## Model Evaluation"
   ]
  },
  {
   "cell_type": "code",
   "execution_count": 180,
   "metadata": {
    "collapsed": false
   },
   "outputs": [
    {
     "name": "stdout",
     "output_type": "stream",
     "text": [
      "*****Classification Report*****\n",
      "              precision    recall  f1-score   support\n",
      "\n",
      "           0       0.95      0.96      0.96     10408\n",
      "           1       0.13      0.10      0.12       599\n",
      "\n",
      "    accuracy                           0.92     11007\n",
      "   macro avg       0.54      0.53      0.54     11007\n",
      "weighted avg       0.90      0.92      0.91     11007\n",
      "\n",
      "ROC: 0.631174138552725\n",
      "Confusion matrix, without normalization\n",
      "[[10014   394]\n",
      " [  538    61]]\n"
     ]
    },
    {
     "data": {
      "image/png": "[encoded data removed]",
      "text/plain": [
       "<Figure size 432x288 with 2 Axes>"
      ]
     },
     "metadata": {
      "needs_background": "light"
     },
     "output_type": "display_data"
    }
   ],
   "source": [
    "predictions = ppl_fit.transform(test_data)\n",
    "pred_pd = predictions.toPandas()\n",
    "roc = roc_auc_score(pred_pd['label'], pred_pd['probability'].map(lambda l: l[1]))\n",
    "cnf_matrix = confusion_matrix(pred_pd['label'], pred_pd['probability'].map(lambda l: l[1]).round())\n",
    "print(\"*****Classification Report*****\")\n",
    "print(classification_report(pred_pd['label'], pred_pd['probability'].map(lambda l: l[1]).round()))\n",
    "print(\"ROC: \" +  str(roc))\n",
    "\n",
    "def plot_confusion_matrix(cm, classes,\n",
    "                          normalize=False,\n",
    "                          title='Confusion matrix',\n",
    "                          cmap=plt.cm.Blues):\n",
    "    \"\"\"\n",
    "    This function prints and plots the confusion matrix.\n",
    "    Normalization can be applied by setting `normalize=True`.\n",
    "    \"\"\"\n",
    "    if normalize:\n",
    "        cm = cm.astype('float') / cm.sum(axis=1)[:, np.newaxis]\n",
    "        print(\"Normalized confusion matrix\")\n",
    "    else:\n",
    "        print('Confusion matrix, without normalization')\n",
    "\n",
    "    print(cm)\n",
    "\n",
    "    plt.imshow(cm, interpolation='nearest', cmap=cmap)\n",
    "    plt.title(title)\n",
    "    plt.colorbar()\n",
    "    tick_marks = np.arange(len(classes))\n",
    "    plt.xticks(tick_marks, classes, rotation=45)\n",
    "    plt.yticks(tick_marks, classes)\n",
    "\n",
    "    fmt = '.2f' if normalize else 'd'\n",
    "    thresh = cm.max() / 2.\n",
    "    for i, j in itertools.product(range(cm.shape[0]), range(cm.shape[1])):\n",
    "        plt.text(j, i, format(cm[i, j], fmt),\n",
    "                 horizontalalignment=\"center\",\n",
    "                 color=\"white\" if cm[i, j] > thresh else \"black\")\n",
    "\n",
    "    plt.ylabel('True label')\n",
    "    plt.xlabel('Predicted label')\n",
    "    plt.tight_layout()\n",
    "\n",
    "plot_confusion_matrix(cnf_matrix, [\"Non-fraud\", \"Fraud\"],\n",
    "                      title='Confusion Matrix')"
   ]
  },
  {
   "cell_type": "markdown",
   "metadata": {},
   "source": [
    "## Save Model"
   ]
  },
  {
   "cell_type": "code",
   "execution_count": 55,
   "metadata": {
    "collapsed": true,
    "deletable": true,
    "editable": true
   },
   "outputs": [],
   "source": [
    "from dsx_ml.ml import save"
   ]
  },
  {
   "cell_type": "code",
   "execution_count": 158,
   "metadata": {
    "collapsed": false,
    "deletable": true,
    "editable": true
   },
   "outputs": [
    {
     "data": {
      "text/plain": [
       "{'path': '/user-home/1063/DSX_Projects/Fraud Transactions/models/Fraud_spark_model_updated/1',\n",
       " 'scoring_endpoint': 'https://dsxl-api/v3/project/score/Python35/spark-2.2/Fraud%20Transactions/Fraud_spark_model_updated/1'}"
      ]
     },
     "execution_count": 158,
     "metadata": {},
     "output_type": "execute_result"
    }
   ],
   "source": [
    "model_name = \"Fraud_spark_model_updated\"\n",
    "save(name = model_name,\n",
    "     model = ppl_fit,\n",
    "     algorithm_type = 'Classification',\n",
    "     test_data = test_data)"
   ]
  }
 ],
 "metadata": {
  "kernelspec": {
   "display_name": "Python3.5 with Watson Studio Spark 2.2.1",
   "language": "python",
   "name": "python3"
  },
  "language_info": {
   "codemirror_mode": {
    "name": "ipython",
    "version": 3
   },
   "file_extension": ".py",
   "mimetype": "text/x-python",
   "name": "python",
   "nbconvert_exporter": "python",
   "pygments_lexer": "ipython3",
   "version": "3.5.2"
  }
 },
 "nbformat": 4,
 "nbformat_minor": 2
}
